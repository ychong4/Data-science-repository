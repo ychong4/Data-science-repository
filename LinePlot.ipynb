{
 "cells": [
  {
   "cell_type": "code",
   "execution_count": 8,
   "id": "c6940ea0",
   "metadata": {},
   "outputs": [
    {
     "ename": "NameError",
     "evalue": "name 'fetch' is not defined",
     "output_type": "error",
     "traceback": [
      "\u001b[1;31m---------------------------------------------------------------------------\u001b[0m",
      "\u001b[1;31mNameError\u001b[0m                                 Traceback (most recent call last)",
      "\u001b[1;32m<ipython-input-8-2862610785cd>\u001b[0m in \u001b[0;36m<module>\u001b[1;34m\u001b[0m\n\u001b[0;32m      7\u001b[0m \u001b[1;33m\u001b[0m\u001b[0m\n\u001b[0;32m      8\u001b[0m \u001b[0mURL\u001b[0m \u001b[1;33m=\u001b[0m \u001b[1;34m'https://cf-courses-data.s3.us.cloud-object-storage.appdomain.cloud/IBMDeveloperSkillsNetwork-DV0101EN-SkillsNetwork/Data%20Files/Canada.xlsx'\u001b[0m\u001b[1;33m\u001b[0m\u001b[1;33m\u001b[0m\u001b[0m\n\u001b[1;32m----> 9\u001b[1;33m \u001b[0mresp\u001b[0m \u001b[1;33m=\u001b[0m \u001b[1;32mawait\u001b[0m \u001b[0mfetch\u001b[0m\u001b[1;33m(\u001b[0m\u001b[0mURL\u001b[0m\u001b[1;33m)\u001b[0m\u001b[1;33m\u001b[0m\u001b[1;33m\u001b[0m\u001b[0m\n\u001b[0m\u001b[0;32m     10\u001b[0m \u001b[1;31m#text = io.BytesIO((await resp.arrayBuffer()).to_py())\u001b[0m\u001b[1;33m\u001b[0m\u001b[1;33m\u001b[0m\u001b[1;33m\u001b[0m\u001b[0m\n\u001b[0;32m     11\u001b[0m \u001b[1;33m\u001b[0m\u001b[0m\n",
      "\u001b[1;31mNameError\u001b[0m: name 'fetch' is not defined"
     ]
    }
   ],
   "source": [
    "#import piplite\n",
    "#await piplite.install(['openpyxl==3.0.9'])\n",
    "import numpy as np\n",
    "import pandas as pd\n",
    "#from js import fetch\n",
    "#import io\n",
    "\n",
    "URL = 'https://cf-courses-data.s3.us.cloud-object-storage.appdomain.cloud/IBMDeveloperSkillsNetwork-DV0101EN-SkillsNetwork/Data%20Files/Canada.xlsx'\n",
    "resp = await fetch(URL)\n",
    "#text = io.BytesIO((await resp.arrayBuffer()).to_py())\n",
    "\n",
    "df=pd.read_excel(\n",
    "    text,\n",
    "    sheet_name = 'Canada by Citizenship',\n",
    "    skiprows = range(20),\n",
    "    skipfooter=2)\n",
    "\n",
    "print('Data downloaded and read into a dataframe!')\n"
   ]
  },
  {
   "cell_type": "code",
   "execution_count": 7,
   "id": "0a5099e1",
   "metadata": {},
   "outputs": [
    {
     "name": "stderr",
     "output_type": "stream",
     "text": [
      "ERROR: Could not find a version that satisfies the requirement piplite\n",
      "ERROR: No matching distribution found for piplite\n"
     ]
    }
   ],
   "source": [
    "# Read first five rows, last five rows\n",
    "df.head()\n",
    "df.tail()\n",
    "\n",
    "# Info and short summary of dataframe\n",
    "df.info(verbose=False)\n",
    "\n",
    "# Columns of dataframe\n",
    "df.columns\n",
    "\n",
    "# The list of indices \n",
    "df.index\n",
    "\n",
    "# tolist() method -> to get the index and columns as lists\n",
    "df.columns.tolist()\n",
    "\n",
    "# size of dataframe\n",
    "df.shape\n",
    "\n",
    "# in pandas axis=0 represents rows (default) and axis=1 represents columns.\n",
    "df.drop['AREA', 'REG', 'DEV', 'Type', 'Coverage'], axis=1, inplace=True)\n",
    "\n",
    "# rename() method \n",
    "df.rename(columns={'OdName':'Country','AreaName':'Continent', 'RegName':'Region'}, inplace=True)\n",
    "df.columns\n",
    "\n",
    "# Add a column that sum up the total immigrants\n",
    "df['Total']= df.sum(axis=1)\n",
    "\n",
    "# Check how many null objects\n",
    "df.isnull().sum()\n",
    "\n",
    "# describe() method: show mean, max, count, percentile of columns\n",
    "df.describe()\n"
   ]
  },
  {
   "cell_type": "code",
   "execution_count": null,
   "id": "54323c19",
   "metadata": {},
   "outputs": [],
   "source": [
    "# Column name of a dataframe\n",
    "df.column_name # 1. return a series\n",
    "df['column'] # 1. return a series\n",
    "df[['column1', 'column2']] # 2. return a dataframe"
   ]
  },
  {
   "cell_type": "code",
   "execution_count": null,
   "id": "6ade0d82",
   "metadata": {},
   "outputs": [],
   "source": [
    "# Select Row\n",
    "\n",
    "df.loc[label] # filters by the labels of the index/column\n",
    "df.iloc[index] # filters by the positions of the index/column\n",
    "df.set_index('Country', inplace=True) #set index using column 'Country'\n",
    "df.index.name = None #To remove the name of the index"
   ]
  },
  {
   "cell_type": "code",
   "execution_count": null,
   "id": "c2c098d5",
   "metadata": {},
   "outputs": [],
   "source": [
    "# Search for particular data info\n",
    "df[df.index == ' Japan'] #Shows Japan row\n",
    "df.loc['Japan', 2013] # show number of Japan immigrants in 2013\n",
    "df.iloc[87,36] # show number of Japan immigrants in 2013\n",
    "df.iloc[87, [3,4,5,6,7,8]] # show number of Japan immigrants 1980-1985\n",
    "df.columns = list(map(str,df.columns)) # Convert the column names into strings"
   ]
  },
  {
   "cell_type": "code",
   "execution_count": null,
   "id": "84345221",
   "metadata": {},
   "outputs": [],
   "source": [
    "# Filtering based on criteria\n",
    "condition = df['Continent'] == 'Asia'\n",
    "print(condition)\n",
    "\n",
    "# Pass this condition into the dataframe\n",
    "df[condition]\n",
    "\n",
    "# Passing multiple criteria in the same line\n",
    "# Filter for AreaName = Asia & RegName = Southern Asia\n",
    "df[(df['Continent'] == 'Asia') & (df['Region'] == 'Southern Asia')]\n",
    "\n",
    "# Note: And = '&'; Or = '|'"
   ]
  },
  {
   "cell_type": "code",
   "execution_count": null,
   "id": "72a27772",
   "metadata": {},
   "outputs": [],
   "source": [
    "# Visualizig data using Matplotlib\n",
    "# We are using the inline backend\n",
    "% matplotlib inline\n",
    "\n",
    "import matplotlib as mpl\n",
    "import matplotlib.pyplot as plt\n",
    "\n",
    "print(plt.style.available)\n",
    "mpl.style.use(['ggplot']) # optional: for ggplot-like style"
   ]
  },
  {
   "cell_type": "code",
   "execution_count": null,
   "id": "2b41fb5a",
   "metadata": {},
   "outputs": [],
   "source": [
    "#Line plots (Sereis/Dataframe)\n",
    "\n",
    "haiti = df.loc['Haiti', years] \n",
    "haiti.head()\n",
    "\n",
    "haiti.plot()\n",
    "# pandas automatically populated the x-axis with the index values (years), and the y-axis with the column values (population).\n",
    "# But the years were not displayed because they are of type string. \n",
    "# Change the type of the index values to integer for plotting.\n",
    "\n",
    "haiti.index = haiti.index.map(int) # Let's change index values of Haiti to type integer for plotting\n",
    "haiti.plot(kind='line')\n",
    "\n",
    "plt.title('Immigration from Haiti')\n",
    "plt.ylabel('Number of immigrants')\n",
    "plt.xlabel('Years')\n",
    "\n",
    "# annotate the 2010 Earthquake\n",
    "# syntax: plt.text(x, y, label)\n",
    "plt.text(2000,6000,'2010 Earthquake') # see note below\n",
    "\n",
    "plt.show()"
   ]
  },
  {
   "cell_type": "code",
   "execution_count": null,
   "id": "c325291a",
   "metadata": {},
   "outputs": [],
   "source": [
    "# Get the data set for China and India\n",
    "\n",
    "df_CI = df.loc[['India','China'], years]\n",
    "df_CI\n",
    "\n",
    "#tranpose the dataframe to switch countries to columns\n",
    "df_CI = df_CI.transpose()\n",
    "df_CI.index = df_CI.index.map(int)\n",
    "df_CI.plot(kind='line')\n",
    "\n",
    "plt.title('Immigration from China and India')\n",
    "plt.ylabel('Number of immigrants')\n",
    "plt.xlabel('Years')\n",
    "\n",
    "plt.show()\n"
   ]
  },
  {
   "cell_type": "code",
   "execution_count": null,
   "id": "cdc3ec56",
   "metadata": {},
   "outputs": [],
   "source": [
    "# Compare the trend of top5 countries that contributed the most to immigration to Canada.\n",
    "# Step1. Use the sort_values() method to sort and get the top 5 countries\n",
    "df_can.sort_values(by='Total', ascending=True, axis=0, inplace=True)\n",
    "df_top5 = df_can.head(5)\n",
    "df_top5.df_top5[years].transpose()\n",
    "print(df_top5)\n",
    "\n",
    "# Step 2. Plot the dataframe\n",
    "df_top5.index = df_top5.index.map(int)\n",
    "df_top5.plot(kind='line',figsize=(14,8))\n",
    "\n",
    "plt.title('Immigration Trend of Top 5 Countries')\n",
    "plt.ylabel('Number of Immigrants')\n",
    "plt.xlabel('Years')\n",
    "\n",
    "\n",
    "plt.show()\n",
    "\n"
   ]
  },
  {
   "cell_type": "code",
   "execution_count": null,
   "id": "39ce964c",
   "metadata": {},
   "outputs": [],
   "source": []
  },
  {
   "cell_type": "code",
   "execution_count": null,
   "id": "ec906255",
   "metadata": {},
   "outputs": [],
   "source": []
  }
 ],
 "metadata": {
  "kernelspec": {
   "display_name": "Python 3",
   "language": "python",
   "name": "python3"
  },
  "language_info": {
   "codemirror_mode": {
    "name": "ipython",
    "version": 3
   },
   "file_extension": ".py",
   "mimetype": "text/x-python",
   "name": "python",
   "nbconvert_exporter": "python",
   "pygments_lexer": "ipython3",
   "version": "3.8.8"
  }
 },
 "nbformat": 4,
 "nbformat_minor": 5
}
