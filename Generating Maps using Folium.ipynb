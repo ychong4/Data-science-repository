{
 "cells": [
  {
   "cell_type": "code",
   "execution_count": null,
   "id": "89e729c0",
   "metadata": {},
   "outputs": [],
   "source": [
    "import numpy as np  # useful for many scientific computing in Python\n",
    "import pandas as pd # primary data structure library\n",
    "import folium\n"
   ]
  },
  {
   "cell_type": "code",
   "execution_count": null,
   "id": "0e32d7cc",
   "metadata": {},
   "outputs": [],
   "source": [
    "world_map = folium.Map()\n",
    "world_map"
   ]
  },
  {
   "cell_type": "code",
   "execution_count": null,
   "id": "10282bbb",
   "metadata": {},
   "outputs": [],
   "source": [
    "# Create a map centered around Canada and play with the zoom level to see how it affects the rendered map\n",
    "world_map = folium.Map(location=[56,130, -106.35], zoom_start=4)\n",
    "world_map"
   ]
  },
  {
   "cell_type": "code",
   "execution_count": null,
   "id": "5c398a7b",
   "metadata": {},
   "outputs": [],
   "source": [
    "# Generate different map styles\n",
    "# High contrast B+W (black and white) maps\n",
    "# Stamen Toner map\n",
    "\n",
    "world_map = folium.Map(location=[56.130, -106.35], zoom_start=4, tiles='Stamen Toner')\n",
    "world_map"
   ]
  },
  {
   "cell_type": "code",
   "execution_count": null,
   "id": "f3814e94",
   "metadata": {},
   "outputs": [],
   "source": [
    "# Generate different map styles\n",
    "# Maps that feature hill shading and natural vegetation colors.\n",
    "# They showcase advanced labeling and linework generalization of dual-carriageway roads.\n",
    "# Stamen Terrain map\n",
    "\n",
    "world_map = folium.Map(location=[56.130, -106.35], zoom_start=4, tiles='Stamen Terrain')\n",
    "world_map"
   ]
  },
  {
   "cell_type": "code",
   "execution_count": null,
   "id": "f52899a2",
   "metadata": {},
   "outputs": [],
   "source": [
    "# Import dataset on police department incidents\n",
    "URL = 'https://cf-courses-data.s3.us.cloud-object-storage.appdomain.cloud/IBMDeveloperSkillsNetwork-DV0101EN-SkillsNetwork/Data%20Files/Police_Department_Incidents_-_Previous_Year__2016_.csv'\n",
    "resp = await fetch(URL)\n",
    "text = io.BytesIO((await resp.arrayBuffer()).to_py())\n",
    "\n",
    "df_incidents =  pd.read_csv(text)\n",
    "\n",
    "print('Dataset downloaded and read into a pandas dataframe!')"
   ]
  },
  {
   "cell_type": "code",
   "execution_count": null,
   "id": "e31adf5c",
   "metadata": {},
   "outputs": [],
   "source": [
    "# get the first 100 crimes in the df_incidents dataframe\n",
    "limit = 100\n",
    "df_incidents = df_incidents.iloc[0:limit,:]"
   ]
  },
  {
   "cell_type": "code",
   "execution_count": null,
   "id": "60c2cbbc",
   "metadata": {},
   "outputs": [],
   "source": [
    "# San francisco latitude and Longitude values\n",
    "latitude = 37.77\n",
    "longitude = -122.42"
   ]
  },
  {
   "cell_type": "code",
   "execution_count": null,
   "id": "22e90602",
   "metadata": {},
   "outputs": [],
   "source": [
    "# Create map and display it\n",
    "sanfran_map = folium.Map(location=[latitude, longitude], zoom_start=12)\n",
    "# display the map of San Francisco\n",
    "sanfran_map"
   ]
  },
  {
   "cell_type": "code",
   "execution_count": null,
   "id": "89f3f409",
   "metadata": {},
   "outputs": [],
   "source": [
    "# Cretae a feature group with its own features and style then add it to the sanfran_map\n",
    "incidents = folium.map.FeatureGroup()\n",
    "\n",
    "# Loop through the 100 crimes and add each to the incidents feature group\n",
    "for lat, lng, in zip(df_incidents.Y, df_incidents.X):\n",
    "    incidents.add_child(\n",
    "        folium.features.CircleMarker(\n",
    "            [lat,lng],\n",
    "            radius=5, # define how big you want the circle markers to be\n",
    "            color='yellow',\n",
    "            fill=True,\n",
    "            fill_color='blue',\n",
    "            fill_opacity=0.6\n",
    "        )\n",
    "    )\n",
    "    \n",
    "# Add incidents to map\n",
    "sanfran_map.add_child(incidents)"
   ]
  },
  {
   "cell_type": "code",
   "execution_count": null,
   "id": "ab2369d6",
   "metadata": {},
   "outputs": [],
   "source": [
    "# Add pop-up text that would get displayed when you hover over a marker\n",
    "\n",
    "# instantiate a feature group for the incidents in the dataframe\n",
    "incidents = folium.map.FeatureGroup()\n",
    "\n",
    "# loop through the 100 crimes and add each to the incidents feature group\n",
    "for lat, lng, in zip(df_incidents.Y, df_incidents.X):\n",
    "    incidents.add_child(\n",
    "        folium.features.CircleMarker(\n",
    "            [lat, lng],\n",
    "            radius=5, # define how big you want the circle markers to be\n",
    "            color='yellow',\n",
    "            fill=True,\n",
    "            fill_color='blue',\n",
    "            fill_opacity=0.6\n",
    "        )\n",
    "    )\n",
    "\n",
    "# add pop-up text to each marker on the map\n",
    "latitudes = list(df_incidents.Y)\n",
    "longitudes = list(df_incidents.X)\n",
    "labels = list(df_incidents.Category)\n",
    "\n",
    "for lat, lng, label in zip(latitudes, longitudes, labels):\n",
    "    folium.Marker([lat, lng], popup=label).add_to(sanfran_map)    \n",
    "    \n",
    "# add incidents to map\n",
    "sanfran_map.add_child(incidents)"
   ]
  },
  {
   "cell_type": "code",
   "execution_count": null,
   "id": "5d7a9a8b",
   "metadata": {},
   "outputs": [],
   "source": [
    "# create map and display it\n",
    "sanfran_map = folium.Map(location=[latitude, longitude], zoom_start=12)\n",
    "\n",
    "# loop through the 100 crimes and add each to the map\n",
    "for lat, lng, label in zip(df_incidents.Y, df_incidents.X, df_incidents.Category):\n",
    "    folium.features.CircleMarker(\n",
    "        [lat, lng],\n",
    "        radius=5, # define how big you want the circle markers to be\n",
    "        color='yellow',\n",
    "        fill=True,\n",
    "        popup=label,\n",
    "        fill_color='blue',\n",
    "        fill_opacity=0.6\n",
    "    ).add_to(sanfran_map)\n",
    "\n",
    "# show map\n",
    "sanfran_map"
   ]
  },
  {
   "cell_type": "code",
   "execution_count": null,
   "id": "f5e668cb",
   "metadata": {},
   "outputs": [],
   "source": [
    "from folium import plugins\n",
    "\n",
    "# let's start again with a clean copy of the map of San Francisco\n",
    "sanfran_map = folium.Map(location = [latitude, longitude], zoom_start = 12)\n",
    "\n",
    "# instantiate a mark cluster object for the incidents in the dataframe\n",
    "incidents = plugins.MarkerCluster().add_to(sanfran_map)\n",
    "\n",
    "# loop through the dataframe and add each data point to the mark cluster\n",
    "for lat, lng, label, in zip(df_incidents.Y, df_incidents.X, df_incidents.Category):\n",
    "    folium.Marker(\n",
    "        location=[lat, lng],\n",
    "        icon=None,\n",
    "        popup=label,\n",
    "    ).add_to(incidents)\n",
    "\n",
    "# display map\n",
    "sanfran_map"
   ]
  },
  {
   "cell_type": "code",
   "execution_count": null,
   "id": "7d84f9c7",
   "metadata": {},
   "outputs": [],
   "source": [
    "# Choropleth Maps: A thematic map in which areas are shaded or patterned in proportion to the measurement of the statistical \n",
    "# variable being displayed on the map, such as population density or per capita income.\n",
    "# In order to create a Choropleth map, we need a GeoJSON file that defines the areas/boundaries of the state, county, or \n",
    "# country that we are interested in.\n",
    "\n",
    "from js import fetch\n",
    "import io\n",
    "import json\n",
    "\n",
    "URL = 'https://cf-courses-data.s3.us.cloud-object-storage.appdomain.cloud/IBMDeveloperSkillsNetwork-DV0101EN-SkillsNetwork/Data%20Files/world_countries.json'\n",
    "resp = await fetch(URL)\n",
    "data = io.BytesIO((await resp.arrayBuffer()).to_py())\n",
    "world_geo = json.load(data)\n",
    "\n",
    "print('GeoJSON file loaded!')"
   ]
  },
  {
   "cell_type": "code",
   "execution_count": null,
   "id": "dee5be33",
   "metadata": {},
   "outputs": [],
   "source": [
    "world_map = folium.Map(location=[0,0], zoom_start=2)"
   ]
  },
  {
   "cell_type": "code",
   "execution_count": null,
   "id": "121956f3",
   "metadata": {},
   "outputs": [],
   "source": [
    "world_map.choropleth(\n",
    "    geo_data=world_geo,\n",
    "    data=df_can,\n",
    "    columns=['Country', 'Total'],\n",
    "    key_on = 'feature.properties.name',\n",
    "    fill_color='TlOrRd',\n",
    "    fill_capacity=0.7,\n",
    "    line_opacity=0.2,\n",
    "    legend_name='Immigration to Canada')\n",
    "\n",
    "world_map\n",
    "\n",
    "# As per the Choropleth map legend, the darker the color of a country and the closer the color to red, the higher the number\n",
    "# of immigrants from that country. Accordingly, the highest immigration over the course of 33 years (from 1980 to 2013) was\n",
    "# from China, India, and the Philippines, followed by Poland, Pakistan, and interestingly, the U.S.\n"
   ]
  },
  {
   "cell_type": "code",
   "execution_count": null,
   "id": "65b4a8f4",
   "metadata": {},
   "outputs": [],
   "source": []
  },
  {
   "cell_type": "code",
   "execution_count": null,
   "id": "48474f34",
   "metadata": {},
   "outputs": [],
   "source": []
  }
 ],
 "metadata": {
  "kernelspec": {
   "display_name": "Python 3",
   "language": "python",
   "name": "python3"
  },
  "language_info": {
   "codemirror_mode": {
    "name": "ipython",
    "version": 3
   },
   "file_extension": ".py",
   "mimetype": "text/x-python",
   "name": "python",
   "nbconvert_exporter": "python",
   "pygments_lexer": "ipython3",
   "version": "3.8.8"
  }
 },
 "nbformat": 4,
 "nbformat_minor": 5
}
