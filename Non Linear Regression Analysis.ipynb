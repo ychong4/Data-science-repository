{
 "cells": [
  {
   "cell_type": "code",
   "execution_count": null,
   "id": "3befe0d7",
   "metadata": {},
   "outputs": [],
   "source": [
    "import numpy as np\n",
    "import matplotlib.pyplot as plt\n",
    "%matplotlib inline"
   ]
  },
  {
   "cell_type": "code",
   "execution_count": null,
   "id": "bd478d1e",
   "metadata": {},
   "outputs": [],
   "source": [
    "# Recall linear relationship\n",
    "x = np.arange(-5.0, 5.0, 0.1)\n",
    "\n",
    "##You can adjust the slope and intercept to verify the changes in the graph\n",
    "y = 2*(x) + 3\n",
    "y_noise = 2 * np.random.normal(size=x.size)\n",
    "ydata = y + y_noise\n",
    "#plt.figure(figsize=(8,6))\n",
    "plt.plot(x, ydata,  'bo')\n",
    "plt.plot(x,y, 'r') \n",
    "plt.ylabel('Dependent Variable')\n",
    "plt.xlabel('Independent Variable')\n",
    "plt.show()"
   ]
  },
  {
   "cell_type": "code",
   "execution_count": null,
   "id": "e745342a",
   "metadata": {},
   "outputs": [],
   "source": [
    "# Cubic function's graph\n",
    "\n",
    "x = np.arange(-5.0, 5.0, 0.1)\n",
    "\n",
    "##You can adjust the slope and intercept to verify the changes in the graph\n",
    "y = 1*(x**3) + 1*(x**2) + 1*x + 3\n",
    "y_noise = 20 * np.random.normal(size=x.size)\n",
    "ydata = y + y_noise\n",
    "plt.plot(x, ydata,  'bo')\n",
    "plt.plot(x,y, 'r') \n",
    "plt.ylabel('Dependent Variable')\n",
    "plt.xlabel('Independent Variable')\n",
    "plt.show()"
   ]
  },
  {
   "cell_type": "code",
   "execution_count": null,
   "id": "44e356b7",
   "metadata": {},
   "outputs": [],
   "source": [
    "# Quadratic \n",
    "\n",
    "x = np.arange(-5.0, 5.0, 0.1)\n",
    "\n",
    "##You can adjust the slope and intercept to verify the changes in the graph\n",
    "\n",
    "y = np.power(x,2)\n",
    "y_noise = 2 * np.random.normal(size=x.size)\n",
    "ydata = y + y_noise\n",
    "plt.plot(x, ydata,  'bo')\n",
    "plt.plot(x,y, 'r') \n",
    "plt.ylabel('Dependent Variable')\n",
    "plt.xlabel('Independent Variable')\n",
    "plt.show()"
   ]
  },
  {
   "cell_type": "code",
   "execution_count": null,
   "id": "ef770968",
   "metadata": {},
   "outputs": [],
   "source": [
    "# Exponential\n",
    "\n",
    "X = np.arange(-5.0, 5.0, 0.1)\n",
    "\n",
    "##You can adjust the slope and intercept to verify the changes in the graph\n",
    "\n",
    "Y= np.exp(X)\n",
    "\n",
    "plt.plot(X,Y) \n",
    "plt.ylabel('Dependent Variable')\n",
    "plt.xlabel('Independent Variable')\n",
    "plt.show()"
   ]
  },
  {
   "cell_type": "code",
   "execution_count": null,
   "id": "47a2cab6",
   "metadata": {},
   "outputs": [],
   "source": [
    "# Logarithmic\n",
    "\n",
    "X = np.arange(-5.0, 5.0, 0.1)\n",
    "\n",
    "Y = np.log(X)\n",
    "\n",
    "plt.plot(X,Y) \n",
    "plt.ylabel('Dependent Variable')\n",
    "plt.xlabel('Independent Variable')\n",
    "plt.show()"
   ]
  },
  {
   "cell_type": "code",
   "execution_count": null,
   "id": "7e0fa355",
   "metadata": {},
   "outputs": [],
   "source": [
    "# Sigmoidal/Logistic\n",
    "\n",
    "X = np.arange(-5.0, 5.0, 0.1)\n",
    "\n",
    "\n",
    "Y = 1-4/(1+np.power(3, X-2))\n",
    "\n",
    "plt.plot(X,Y) \n",
    "plt.ylabel('Dependent Variable')\n",
    "plt.xlabel('Independent Variable')\n",
    "plt.show()"
   ]
  },
  {
   "cell_type": "code",
   "execution_count": null,
   "id": "667bf588",
   "metadata": {},
   "outputs": [],
   "source": [
    "# Building non-linear model\n",
    "\n",
    "def sigmoid(x, Beta_1, Beta_2):\n",
    "     y = 1 / (1 + np.exp(-Beta_1*(x-Beta_2)))\n",
    "     return y\n",
    "\n",
    "# Sample sigmoid that might fit with the data\n",
    "beta_1 = 0.10\n",
    "beta_2 = 1990.0\n",
    "\n",
    "#logistic function\n",
    "Y_pred = sigmoid(x_data, beta_1 , beta_2)\n",
    "\n",
    "#plot initial prediction against datapoints\n",
    "plt.plot(x_data, Y_pred*15000000000000.)\n",
    "plt.plot(x_data, y_data, 'ro')\n",
    "\n",
    "# Lets normalize our data\n",
    "xdata =x_data/max(x_data)\n",
    "ydata =y_data/max(y_data)"
   ]
  },
  {
   "cell_type": "code",
   "execution_count": null,
   "id": "4c4658a2",
   "metadata": {},
   "outputs": [],
   "source": [
    "from scipy.optimize import curve_fit\n",
    "popt, pcov = curve_fit(sigmoid, xdata, ydata)\n",
    "#print the final parameters\n",
    "print(\" beta_1 = %f, beta_2 = %f\" % (popt[0], popt[1]))\n",
    "\n",
    "# Plot the resulting regression model\n",
    "x = np.linspace(1960, 2015, 55)\n",
    "x = x/max(x)\n",
    "plt.figure(figsize=(8,5))\n",
    "y = sigmoid(x, *popt)\n",
    "plt.plot(xdata, ydata, 'ro', label='data')\n",
    "plt.plot(x,y, linewidth=3.0, label='fit')\n",
    "plt.legend(loc='best')\n",
    "plt.ylabel('GDP')\n",
    "plt.xlabel('Year')\n",
    "plt.show()"
   ]
  }
 ],
 "metadata": {
  "kernelspec": {
   "display_name": "Python 3",
   "language": "python",
   "name": "python3"
  },
  "language_info": {
   "codemirror_mode": {
    "name": "ipython",
    "version": 3
   },
   "file_extension": ".py",
   "mimetype": "text/x-python",
   "name": "python",
   "nbconvert_exporter": "python",
   "pygments_lexer": "ipython3",
   "version": "3.8.8"
  }
 },
 "nbformat": 4,
 "nbformat_minor": 5
}
