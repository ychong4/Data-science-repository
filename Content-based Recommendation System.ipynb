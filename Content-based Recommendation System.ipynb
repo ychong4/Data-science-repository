{
 "cells": [
  {
   "cell_type": "code",
   "execution_count": null,
   "id": "eef13f2f",
   "metadata": {},
   "outputs": [],
   "source": [
    "# Create a recommendation system using Content Based filtering\n",
    "\n",
    "#Dataframe manipulation library\n",
    "import pandas as pd\n",
    "#Math functions, we'll only need the sqrt function so let's import only that\n",
    "from math import sqrt\n",
    "import numpy as np\n",
    "import matplotlib.pyplot as plt\n",
    "%matplotlib inline"
   ]
  },
  {
   "cell_type": "code",
   "execution_count": null,
   "id": "8027b3c8",
   "metadata": {},
   "outputs": [],
   "source": [
    "# Read each file into their Dataframes\n",
    "\n",
    "#Storing the movie information into a pandas dataframe\n",
    "movies_df = pd.read_csv('movies.csv')\n",
    "#Storing the user information into a pandas dataframe\n",
    "ratings_df = pd.read_csv('ratings.csv')\n",
    "#Head is a function that gets the first N rows of a dataframe. N's default is 5.\n",
    "movies_df.head()"
   ]
  },
  {
   "cell_type": "code",
   "execution_count": null,
   "id": "b4e6549e",
   "metadata": {},
   "outputs": [],
   "source": [
    "# Remove the year from the title column by using pandas replace function and store in a new year column\n",
    "\n",
    "#Using regular expressions to find a year stored between parentheses\n",
    "#We specify the parantheses so we don't conflict with movies that have years in their titles\n",
    "movies_df['year'] = movies_df.title.str.extract('(\\(\\d\\d\\d\\d\\))',expand=False)\n",
    "#Removing the parentheses\n",
    "movies_df['year'] = movies_df.year.str.extract('(\\d\\d\\d\\d)',expand=False)\n",
    "#Removing the years from the 'title' column\n",
    "movies_df['title'] = movies_df.title.str.replace('(\\(\\d\\d\\d\\d\\))', '')\n",
    "#Applying the strip function to get rid of any ending whitespace characters that may have appeared\n",
    "movies_df['title'] = movies_df['title'].apply(lambda x: x.strip())\n",
    "movies_df.head()\n",
    "\n",
    "\n",
    "# Split the values in the Genres column into a list of Genres to simplify for future use\n",
    "\n",
    "#Every genre is separated by a | so we simply have to call the split function on |\n",
    "movies_df['genres'] = movies_df.genres.str.split('|')\n",
    "movies_df.head()"
   ]
  },
  {
   "cell_type": "code",
   "execution_count": null,
   "id": "7862af26",
   "metadata": {},
   "outputs": [],
   "source": [
    "# Since keeping genres in a list format isn't optimal for the content-based recommendation system technique, we will use the\n",
    "# One Hot Encoding technique to convert the list of genres to a vector where each column corresponds to one possible of the \n",
    "# feature. This encoding is needed for feeding categorical data. In this case, we store every different genre in columns \n",
    "# that contain either 1 or 0. 1 shows that a movie has that genre and 0 shows that it doesn't. Let's also store this dataframe\n",
    "# in another variable since genres won't be important for our first recommendation system.\n",
    "\n",
    "#Copying the movie dataframe into a new one since we won't need to use the genre information in our first case.\n",
    "moviesWithGenres_df = movies_df.copy()\n",
    "\n",
    "#For every row in the dataframe, iterate through the list of genres and place a 1 into the corresponding column\n",
    "for index, row in movies_df.iterrows():\n",
    "    for genre in row['genres']:\n",
    "        moviesWithGenres_df.at[index, genre] = 1\n",
    "#Filling in the NaN values with 0 to show that a movie doesn't have that column's genre\n",
    "moviesWithGenres_df = moviesWithGenres_df.fillna(0)\n",
    "moviesWithGenres_df.head()\n",
    "\n",
    "ratings_df.head()\n",
    "\n",
    "#Drop removes a specified row or column from a dataframe\n",
    "ratings_df = ratings_df.drop('timestamp', 1)\n",
    "ratings_df.head()"
   ]
  },
  {
   "cell_type": "code",
   "execution_count": null,
   "id": "ccaa1354",
   "metadata": {},
   "outputs": [],
   "source": [
    "# Content-based recommendation system\n",
    "# We try to figure out what a user's favorite aspects of an item is, and then recommends items that present those aspects. \n",
    "# In our case, we're going to try to figure out the input's favorite genres from the movies and ratings given.\n",
    "# We begin by creating an input to recommend movies to:\n",
    "\n",
    "userInput = [\n",
    "            {'title':'Breakfast Club, The', 'rating':5},\n",
    "            {'title':'Toy Story', 'rating':3.5},\n",
    "            {'title':'Jumanji', 'rating':2},\n",
    "            {'title':\"Pulp Fiction\", 'rating':5},\n",
    "            {'title':'Akira', 'rating':4.5}\n",
    "         ] \n",
    "inputMovies = pd.DataFrame(userInput)\n",
    "inputMovies"
   ]
  },
  {
   "cell_type": "code",
   "execution_count": null,
   "id": "b010bae1",
   "metadata": {},
   "outputs": [],
   "source": [
    "# Add movie ID to input user\n",
    "# We extract the input movie's ID from the movies dataframe and add them into it\n",
    "# We can achieve this by first filtering out the rows that contain the input movie's title and then merging this subset\n",
    "# with the input dataframe. We also drop unnecessary columns for the input to save memory space.\n",
    "\n",
    "#Filtering out the movies by title\n",
    "inputId = movies_df[movies_df['title'].isin(inputMovies['title'].tolist())]\n",
    "#Then merging it so we can get the movieId. It's implicitly merging it by title.\n",
    "inputMovies = pd.merge(inputId, inputMovies)\n",
    "#Dropping information we won't use from the input dataframe\n",
    "inputMovies = inputMovies.drop('genres', 1).drop('year', 1)\n",
    "#Final input dataframe\n",
    "#If a movie you added in above isn't here, then it might not be in the original \n",
    "#dataframe or it might spelled differently, please check capitalisation.\n",
    "inputMovies"
   ]
  },
  {
   "cell_type": "code",
   "execution_count": null,
   "id": "079d0b7d",
   "metadata": {},
   "outputs": [],
   "source": [
    "# We are going to start by learning the input's preferences, so let's get the subset of movies that the input\n",
    "# has watched from the Dataframe containing genres defined with binary values.\n",
    "\n",
    "#Filtering out the movies from the input\n",
    "userMovies = moviesWithGenres_df[moviesWithGenres_df['movieId'].isin(inputMovies['movieId'].tolist())]\n",
    "userMovies\n",
    "\n",
    "# We only need the actual genre table, so let's clean up by resetting the index and dropping the movieid, genres, and year columns\n",
    "#Resetting the index to avoid future issues\n",
    "userMovies = userMovies.reset_index(drop=True)\n",
    "#Dropping unnecessary issues due to save memory and to avoid issues\n",
    "userGenreTable = userMovies.drop('movieId', 1).drop('title', 1).drop('genres', 1).drop('year', 1)\n",
    "userGenreTable"
   ]
  },
  {
   "cell_type": "code",
   "execution_count": null,
   "id": "f9c8df97",
   "metadata": {},
   "outputs": [],
   "source": [
    "# We are ready to start learning the input's preferences\n",
    "# To do this, we're going to turn each genre into weights. We can do this by using the input's reviews and multiplying them into\n",
    "# the input's genre table and then summing up the resulting table by column. This operation is actually a dot product between\n",
    "# a matrix and vector, so we can simply accomplish by calling the Pandas \"dot\" function.\n",
    "\n",
    "inputMovies['rating']\n",
    "\n",
    "#Dot produt to get weights\n",
    "userProfile = userGenreTable.transpose().dot(inputMovies['rating'])\n",
    "#The user profile\n",
    "userProfile\n",
    "\n",
    "# Now we have the weights for every of the user's preferences. This is known as the User Profile. Using this, we can \n",
    "# recommend movies that satisfy the user's preferences."
   ]
  },
  {
   "cell_type": "code",
   "execution_count": null,
   "id": "9ffa2211",
   "metadata": {},
   "outputs": [],
   "source": [
    "# Let's start by extracting the genre table from the original dataframe\n",
    "\n",
    "#Now let's get the genres of every movie in our original dataframe\n",
    "genreTable = moviesWithGenres_df.set_index(moviesWithGenres_df['movieId'])\n",
    "#And drop the unnecessary information\n",
    "genreTable = genreTable.drop('movieId', 1).drop('title', 1).drop('genres', 1).drop('year', 1)\n",
    "genreTable.head()"
   ]
  },
  {
   "cell_type": "code",
   "execution_count": null,
   "id": "8cb32d09",
   "metadata": {},
   "outputs": [],
   "source": [
    "# With the input's profile and the complete list of movies and their genres in hand, we're going to take the weighted average\n",
    "# of every movie based on the input profile and recommend the top twenty movies that most satisfy it.\n",
    "\n",
    "#Multiply the genres by the weights and then take the weighted average\n",
    "recommendationTable_df = ((genreTable*userProfile).sum(axis=1))/(userProfile.sum())\n",
    "recommendationTable_df.head()"
   ]
  },
  {
   "cell_type": "code",
   "execution_count": null,
   "id": "386020e6",
   "metadata": {},
   "outputs": [],
   "source": [
    "#Sort our recommendations in descending order\n",
    "recommendationTable_df = recommendationTable_df.sort_values(ascending=False)\n",
    "#Just a peek at the values\n",
    "recommendationTable_df.head()"
   ]
  },
  {
   "cell_type": "code",
   "execution_count": null,
   "id": "db2f0d9e",
   "metadata": {},
   "outputs": [],
   "source": [
    "# Here's the recommendation table\n",
    "\n",
    "#The final recommendation table\n",
    "movies_df.loc[movies_df['movieId'].isin(recommendationTable_df.head(20).keys())]"
   ]
  }
 ],
 "metadata": {
  "kernelspec": {
   "display_name": "Python 3",
   "language": "python",
   "name": "python3"
  },
  "language_info": {
   "codemirror_mode": {
    "name": "ipython",
    "version": 3
   },
   "file_extension": ".py",
   "mimetype": "text/x-python",
   "name": "python",
   "nbconvert_exporter": "python",
   "pygments_lexer": "ipython3",
   "version": "3.8.8"
  }
 },
 "nbformat": 4,
 "nbformat_minor": 5
}
